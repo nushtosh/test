{
 "cells": [
  {
   "cell_type": "code",
   "execution_count": 27,
   "id": "f0b31442-f8d0-4833-aaed-d1020de84692",
   "metadata": {
    "tags": []
   },
   "outputs": [],
   "source": [
    "import jsonlines\n",
    "\n"
   ]
  },
  {
   "cell_type": "code",
   "execution_count": 35,
   "id": "4218458d-920d-4cbb-b428-e2231d5ba93c",
   "metadata": {
    "tags": []
   },
   "outputs": [],
   "source": [
    "# Пути к файлам с логами\n",
    "log_file1 = 'log_a.jsonl'\n",
    "log_file2 = 'log_b.jsonl'\n",
    "\n"
   ]
  },
  {
   "cell_type": "code",
   "execution_count": 36,
   "id": "ecda5609-e741-4736-87ae-64e6f134e6aa",
   "metadata": {
    "tags": []
   },
   "outputs": [],
   "source": [
    "# Читаем данные из первого файла\n",
    "logs1 = []\n",
    "with jsonlines.open(log_file1) as reader:\n",
    "    for log in reader:\n",
    "        logs1.append(log)\n",
    "\n",
    "# Читаем данные из второго файла\n",
    "logs2 = []\n",
    "with jsonlines.open(log_file2) as reader:\n",
    "    for log in reader:\n",
    "        logs2.append(log)"
   ]
  },
  {
   "cell_type": "code",
   "execution_count": 40,
   "id": "f89fbdf2-f7cb-4dcb-a7f6-cd314000e1db",
   "metadata": {
    "tags": []
   },
   "outputs": [],
   "source": [
    "merged_logs = sorted(logs1 + logs2, key=lambda x: x['timestamp'])"
   ]
  },
  {
   "cell_type": "markdown",
   "id": "98df93e4-30b9-45ce-ada5-9d0b1dfc00dd",
   "metadata": {},
   "source": [
    "checking if sorting was right"
   ]
  },
  {
   "cell_type": "code",
   "execution_count": 41,
   "id": "d59d9f07-e16d-4864-bf67-c4566b13828c",
   "metadata": {
    "tags": []
   },
   "outputs": [
    {
     "data": {
      "text/html": [
       "<div>\n",
       "<style scoped>\n",
       "    .dataframe tbody tr th:only-of-type {\n",
       "        vertical-align: middle;\n",
       "    }\n",
       "\n",
       "    .dataframe tbody tr th {\n",
       "        vertical-align: top;\n",
       "    }\n",
       "\n",
       "    .dataframe thead th {\n",
       "        text-align: right;\n",
       "    }\n",
       "</style>\n",
       "<table border=\"1\" class=\"dataframe\">\n",
       "  <thead>\n",
       "    <tr style=\"text-align: right;\">\n",
       "      <th></th>\n",
       "      <th>log_level</th>\n",
       "      <th>timestamp</th>\n",
       "      <th>message</th>\n",
       "    </tr>\n",
       "  </thead>\n",
       "  <tbody>\n",
       "    <tr>\n",
       "      <th>0</th>\n",
       "      <td>INFO</td>\n",
       "      <td>2023-07-18 18:00:09</td>\n",
       "      <td>Amy killed an apple at park tomorrow</td>\n",
       "    </tr>\n",
       "    <tr>\n",
       "      <th>1</th>\n",
       "      <td>WARNING</td>\n",
       "      <td>2023-07-18 18:00:09</td>\n",
       "      <td>Leela killed a car near the Square Garden tomo...</td>\n",
       "    </tr>\n",
       "    <tr>\n",
       "      <th>2</th>\n",
       "      <td>WARNING</td>\n",
       "      <td>2023-07-18 18:00:10</td>\n",
       "      <td>Leela killed a boat at park day before yesterday</td>\n",
       "    </tr>\n",
       "    <tr>\n",
       "      <th>3</th>\n",
       "      <td>DEBUG</td>\n",
       "      <td>2023-07-18 18:00:14</td>\n",
       "      <td>Amy saw a mall in L.A. yesterday</td>\n",
       "    </tr>\n",
       "    <tr>\n",
       "      <th>4</th>\n",
       "      <td>ERROR</td>\n",
       "      <td>2023-07-18 18:00:14</td>\n",
       "      <td>Amy saw a fish on the Mars yesterday</td>\n",
       "    </tr>\n",
       "    <tr>\n",
       "      <th>...</th>\n",
       "      <td>...</td>\n",
       "      <td>...</td>\n",
       "      <td>...</td>\n",
       "    </tr>\n",
       "    <tr>\n",
       "      <th>17794525</th>\n",
       "      <td>ERROR</td>\n",
       "      <td>2024-10-24 6:17:27</td>\n",
       "      <td>Bender saw a rocket in L.A. today</td>\n",
       "    </tr>\n",
       "    <tr>\n",
       "      <th>17794526</th>\n",
       "      <td>WARNING</td>\n",
       "      <td>2024-10-24 6:17:29</td>\n",
       "      <td>Fry ate a fish in L.A. tomorrow</td>\n",
       "    </tr>\n",
       "    <tr>\n",
       "      <th>17794527</th>\n",
       "      <td>ERROR</td>\n",
       "      <td>2024-10-24 6:17:37</td>\n",
       "      <td>Dr. Zoidberg took a bottle of bear near the Sq...</td>\n",
       "    </tr>\n",
       "    <tr>\n",
       "      <th>17794528</th>\n",
       "      <td>ERROR</td>\n",
       "      <td>2024-10-24 6:17:37</td>\n",
       "      <td>Farnsworth killed a bottle of bear near the Sq...</td>\n",
       "    </tr>\n",
       "    <tr>\n",
       "      <th>17794529</th>\n",
       "      <td>WARNING</td>\n",
       "      <td>2024-10-24 6:17:45</td>\n",
       "      <td>Farnsworth brought a boat at park day before y...</td>\n",
       "    </tr>\n",
       "  </tbody>\n",
       "</table>\n",
       "<p>17794530 rows × 3 columns</p>\n",
       "</div>"
      ],
      "text/plain": [
       "         log_level            timestamp  \\\n",
       "0             INFO  2023-07-18 18:00:09   \n",
       "1          WARNING  2023-07-18 18:00:09   \n",
       "2          WARNING  2023-07-18 18:00:10   \n",
       "3            DEBUG  2023-07-18 18:00:14   \n",
       "4            ERROR  2023-07-18 18:00:14   \n",
       "...            ...                  ...   \n",
       "17794525     ERROR   2024-10-24 6:17:27   \n",
       "17794526   WARNING   2024-10-24 6:17:29   \n",
       "17794527     ERROR   2024-10-24 6:17:37   \n",
       "17794528     ERROR   2024-10-24 6:17:37   \n",
       "17794529   WARNING   2024-10-24 6:17:45   \n",
       "\n",
       "                                                    message  \n",
       "0                      Amy killed an apple at park tomorrow  \n",
       "1         Leela killed a car near the Square Garden tomo...  \n",
       "2          Leela killed a boat at park day before yesterday  \n",
       "3                          Amy saw a mall in L.A. yesterday  \n",
       "4                      Amy saw a fish on the Mars yesterday  \n",
       "...                                                     ...  \n",
       "17794525                  Bender saw a rocket in L.A. today  \n",
       "17794526                    Fry ate a fish in L.A. tomorrow  \n",
       "17794527  Dr. Zoidberg took a bottle of bear near the Sq...  \n",
       "17794528  Farnsworth killed a bottle of bear near the Sq...  \n",
       "17794529  Farnsworth brought a boat at park day before y...  \n",
       "\n",
       "[17794530 rows x 3 columns]"
      ]
     },
     "execution_count": 41,
     "metadata": {},
     "output_type": "execute_result"
    }
   ],
   "source": [
    "df = pd.DataFrame.from_dict(merged_logs, orient='columns')\n",
    "df"
   ]
  },
  {
   "cell_type": "code",
   "execution_count": 45,
   "id": "2fa1df87-9b5c-44ea-b2c8-690194afbd88",
   "metadata": {
    "tags": []
   },
   "outputs": [
    {
     "ename": "AttributeError",
     "evalue": "'Series' object has no attribute 'is_monotonic_descending'",
     "output_type": "error",
     "traceback": [
      "\u001b[1;31m---------------------------------------------------------------------------\u001b[0m",
      "\u001b[1;31mAttributeError\u001b[0m                            Traceback (most recent call last)",
      "Cell \u001b[1;32mIn[45], line 1\u001b[0m\n\u001b[1;32m----> 1\u001b[0m df\u001b[38;5;241m.\u001b[39mtimestamp\u001b[38;5;241m.\u001b[39mis_monotonic_descending\n",
      "File \u001b[1;32m~\\anaconda3\\Lib\\site-packages\\pandas\\core\\generic.py:5902\u001b[0m, in \u001b[0;36mNDFrame.__getattr__\u001b[1;34m(self, name)\u001b[0m\n\u001b[0;32m   5895\u001b[0m \u001b[38;5;28;01mif\u001b[39;00m (\n\u001b[0;32m   5896\u001b[0m     name \u001b[38;5;129;01mnot\u001b[39;00m \u001b[38;5;129;01min\u001b[39;00m \u001b[38;5;28mself\u001b[39m\u001b[38;5;241m.\u001b[39m_internal_names_set\n\u001b[0;32m   5897\u001b[0m     \u001b[38;5;129;01mand\u001b[39;00m name \u001b[38;5;129;01mnot\u001b[39;00m \u001b[38;5;129;01min\u001b[39;00m \u001b[38;5;28mself\u001b[39m\u001b[38;5;241m.\u001b[39m_metadata\n\u001b[0;32m   5898\u001b[0m     \u001b[38;5;129;01mand\u001b[39;00m name \u001b[38;5;129;01mnot\u001b[39;00m \u001b[38;5;129;01min\u001b[39;00m \u001b[38;5;28mself\u001b[39m\u001b[38;5;241m.\u001b[39m_accessors\n\u001b[0;32m   5899\u001b[0m     \u001b[38;5;129;01mand\u001b[39;00m \u001b[38;5;28mself\u001b[39m\u001b[38;5;241m.\u001b[39m_info_axis\u001b[38;5;241m.\u001b[39m_can_hold_identifiers_and_holds_name(name)\n\u001b[0;32m   5900\u001b[0m ):\n\u001b[0;32m   5901\u001b[0m     \u001b[38;5;28;01mreturn\u001b[39;00m \u001b[38;5;28mself\u001b[39m[name]\n\u001b[1;32m-> 5902\u001b[0m \u001b[38;5;28;01mreturn\u001b[39;00m \u001b[38;5;28mobject\u001b[39m\u001b[38;5;241m.\u001b[39m\u001b[38;5;21m__getattribute__\u001b[39m(\u001b[38;5;28mself\u001b[39m, name)\n",
      "\u001b[1;31mAttributeError\u001b[0m: 'Series' object has no attribute 'is_monotonic_descending'"
     ]
    }
   ],
   "source": [
    "df.timestamp.is_monotonic_descending"
   ]
  },
  {
   "cell_type": "code",
   "execution_count": null,
   "id": "c16eb219-e764-4114-8ff0-4075b428d6ba",
   "metadata": {},
   "outputs": [],
   "source": []
  }
 ],
 "metadata": {
  "kernelspec": {
   "display_name": "Python 3 (ipykernel)",
   "language": "python",
   "name": "python3"
  },
  "language_info": {
   "codemirror_mode": {
    "name": "ipython",
    "version": 3
   },
   "file_extension": ".py",
   "mimetype": "text/x-python",
   "name": "python",
   "nbconvert_exporter": "python",
   "pygments_lexer": "ipython3",
   "version": "3.11.3"
  }
 },
 "nbformat": 4,
 "nbformat_minor": 5
}
